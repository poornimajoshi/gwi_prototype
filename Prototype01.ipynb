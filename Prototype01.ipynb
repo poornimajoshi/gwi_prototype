{
 "cells": [
  {
   "cell_type": "markdown",
   "metadata": {},
   "source": [
    "# Prototype"
   ]
  },
  {
   "cell_type": "code",
   "execution_count": 3,
   "metadata": {},
   "outputs": [],
   "source": [
    "import matplotlib.pyplot as plt\n",
    "import pandas as pd\n",
    "import numpy as np"
   ]
  },
  {
   "cell_type": "code",
   "execution_count": 4,
   "metadata": {},
   "outputs": [
    {
     "data": {
      "text/html": [
       "<div>\n",
       "<style scoped>\n",
       "    .dataframe tbody tr th:only-of-type {\n",
       "        vertical-align: middle;\n",
       "    }\n",
       "\n",
       "    .dataframe tbody tr th {\n",
       "        vertical-align: top;\n",
       "    }\n",
       "\n",
       "    .dataframe thead th {\n",
       "        text-align: right;\n",
       "    }\n",
       "</style>\n",
       "<table border=\"1\" class=\"dataframe\">\n",
       "  <thead>\n",
       "    <tr style=\"text-align: right;\">\n",
       "      <th></th>\n",
       "      <th>FomRapoManmRezogmail-community</th>\n",
       "      <th>FomRapoManmRezogmail-today</th>\n",
       "      <th>FomRapoManmRezogmail-principalActivity</th>\n",
       "      <th>FomRapoManmRezogmail-numberPeople</th>\n",
       "      <th>FomRapoManmRezogmail-networkMember</th>\n",
       "    </tr>\n",
       "  </thead>\n",
       "  <tbody>\n",
       "    <tr>\n",
       "      <th>0</th>\n",
       "      <td>arlington</td>\n",
       "      <td>2018-02-10</td>\n",
       "      <td>painting</td>\n",
       "      <td>32</td>\n",
       "      <td>netmem1</td>\n",
       "    </tr>\n",
       "    <tr>\n",
       "      <th>1</th>\n",
       "      <td>arlington</td>\n",
       "      <td>2018-02-10</td>\n",
       "      <td>awareness</td>\n",
       "      <td>30</td>\n",
       "      <td>netmem2</td>\n",
       "    </tr>\n",
       "    <tr>\n",
       "      <th>2</th>\n",
       "      <td>fairfax</td>\n",
       "      <td>2018-02-13</td>\n",
       "      <td>awareness</td>\n",
       "      <td>42</td>\n",
       "      <td>netmem1</td>\n",
       "    </tr>\n",
       "    <tr>\n",
       "      <th>3</th>\n",
       "      <td>loudoun</td>\n",
       "      <td>2018-03-07</td>\n",
       "      <td>awareness</td>\n",
       "      <td>16</td>\n",
       "      <td>netmem2</td>\n",
       "    </tr>\n",
       "    <tr>\n",
       "      <th>4</th>\n",
       "      <td>alexandria</td>\n",
       "      <td>2018-02-28</td>\n",
       "      <td>painting</td>\n",
       "      <td>15</td>\n",
       "      <td>netmem1</td>\n",
       "    </tr>\n",
       "  </tbody>\n",
       "</table>\n",
       "</div>"
      ],
      "text/plain": [
       "  FomRapoManmRezogmail-community FomRapoManmRezogmail-today  \\\n",
       "0                      arlington                 2018-02-10   \n",
       "1                      arlington                 2018-02-10   \n",
       "2                        fairfax                 2018-02-13   \n",
       "3                        loudoun                 2018-03-07   \n",
       "4                     alexandria                 2018-02-28   \n",
       "\n",
       "  FomRapoManmRezogmail-principalActivity  FomRapoManmRezogmail-numberPeople  \\\n",
       "0                               painting                                 32   \n",
       "1                              awareness                                 30   \n",
       "2                              awareness                                 42   \n",
       "3                              awareness                                 16   \n",
       "4                               painting                                 15   \n",
       "\n",
       "  FomRapoManmRezogmail-networkMember  \n",
       "0                            netmem1  \n",
       "1                            netmem2  \n",
       "2                            netmem1  \n",
       "3                            netmem2  \n",
       "4                            netmem1  "
      ]
     },
     "execution_count": 4,
     "metadata": {},
     "output_type": "execute_result"
    }
   ],
   "source": [
    "data = pd.read_excel('test.xlsx')\n",
    "data.head()"
   ]
  },
  {
   "cell_type": "code",
   "execution_count": null,
   "metadata": {},
   "outputs": [],
   "source": []
  },
  {
   "cell_type": "code",
   "execution_count": 5,
   "metadata": {},
   "outputs": [
    {
     "data": {
      "text/html": [
       "<div>\n",
       "<style scoped>\n",
       "    .dataframe tbody tr th:only-of-type {\n",
       "        vertical-align: middle;\n",
       "    }\n",
       "\n",
       "    .dataframe tbody tr th {\n",
       "        vertical-align: top;\n",
       "    }\n",
       "\n",
       "    .dataframe thead th {\n",
       "        text-align: right;\n",
       "    }\n",
       "</style>\n",
       "<table border=\"1\" class=\"dataframe\">\n",
       "  <thead>\n",
       "    <tr style=\"text-align: right;\">\n",
       "      <th></th>\n",
       "      <th>FomRapoManmRezogmail-community</th>\n",
       "      <th>FomRapoManmRezogmail-today</th>\n",
       "      <th>FomRapoManmRezogmail-principalActivity</th>\n",
       "      <th>FomRapoManmRezogmail-numberPeople</th>\n",
       "      <th>FomRapoManmRezogmail-networkMember</th>\n",
       "      <th>month</th>\n",
       "    </tr>\n",
       "  </thead>\n",
       "  <tbody>\n",
       "    <tr>\n",
       "      <th>0</th>\n",
       "      <td>arlington</td>\n",
       "      <td>2018-02-10</td>\n",
       "      <td>painting</td>\n",
       "      <td>32</td>\n",
       "      <td>netmem1</td>\n",
       "      <td>2</td>\n",
       "    </tr>\n",
       "    <tr>\n",
       "      <th>1</th>\n",
       "      <td>arlington</td>\n",
       "      <td>2018-02-10</td>\n",
       "      <td>awareness</td>\n",
       "      <td>30</td>\n",
       "      <td>netmem2</td>\n",
       "      <td>2</td>\n",
       "    </tr>\n",
       "    <tr>\n",
       "      <th>2</th>\n",
       "      <td>fairfax</td>\n",
       "      <td>2018-02-13</td>\n",
       "      <td>awareness</td>\n",
       "      <td>42</td>\n",
       "      <td>netmem1</td>\n",
       "      <td>2</td>\n",
       "    </tr>\n",
       "    <tr>\n",
       "      <th>3</th>\n",
       "      <td>loudoun</td>\n",
       "      <td>2018-03-07</td>\n",
       "      <td>awareness</td>\n",
       "      <td>16</td>\n",
       "      <td>netmem2</td>\n",
       "      <td>3</td>\n",
       "    </tr>\n",
       "    <tr>\n",
       "      <th>4</th>\n",
       "      <td>alexandria</td>\n",
       "      <td>2018-02-28</td>\n",
       "      <td>painting</td>\n",
       "      <td>15</td>\n",
       "      <td>netmem1</td>\n",
       "      <td>2</td>\n",
       "    </tr>\n",
       "  </tbody>\n",
       "</table>\n",
       "</div>"
      ],
      "text/plain": [
       "  FomRapoManmRezogmail-community FomRapoManmRezogmail-today  \\\n",
       "0                      arlington                 2018-02-10   \n",
       "1                      arlington                 2018-02-10   \n",
       "2                        fairfax                 2018-02-13   \n",
       "3                        loudoun                 2018-03-07   \n",
       "4                     alexandria                 2018-02-28   \n",
       "\n",
       "  FomRapoManmRezogmail-principalActivity  FomRapoManmRezogmail-numberPeople  \\\n",
       "0                               painting                                 32   \n",
       "1                              awareness                                 30   \n",
       "2                              awareness                                 42   \n",
       "3                              awareness                                 16   \n",
       "4                               painting                                 15   \n",
       "\n",
       "  FomRapoManmRezogmail-networkMember  month  \n",
       "0                            netmem1      2  \n",
       "1                            netmem2      2  \n",
       "2                            netmem1      2  \n",
       "3                            netmem2      3  \n",
       "4                            netmem1      2  "
      ]
     },
     "execution_count": 5,
     "metadata": {},
     "output_type": "execute_result"
    }
   ],
   "source": [
    "#convert to months\n",
    "data['month'] = pd.DatetimeIndex(data['FomRapoManmRezogmail-today']).month\n",
    "data['month']\n",
    "data.head()"
   ]
  },
  {
   "cell_type": "code",
   "execution_count": 6,
   "metadata": {},
   "outputs": [
    {
     "data": {
      "text/plain": [
       "([<matplotlib.axis.XTick at 0x1185deef0>,\n",
       "  <matplotlib.axis.XTick at 0x1185de828>,\n",
       "  <matplotlib.axis.XTick at 0x1185de550>,\n",
       "  <matplotlib.axis.XTick at 0x11a634da0>],\n",
       " <a list of 4 Text xticklabel objects>)"
      ]
     },
     "execution_count": 6,
     "metadata": {},
     "output_type": "execute_result"
    },
    {
     "data": {
      "image/png": "[encoded data removed]",
      "text/plain": [
       "<Figure size 432x288 with 1 Axes>"
      ]
     },
     "metadata": {},
     "output_type": "display_data"
    }
   ],
   "source": [
    "plt.bar(data['month'],data['FomRapoManmRezogmail-numberPeople'])\n",
    "plt.xticks(np.arange(1,5),['Jan', 'Feb', 'March', 'April'])"
   ]
  },
  {
   "cell_type": "code",
   "execution_count": 7,
   "metadata": {},
   "outputs": [],
   "source": [
    "#create a new data frame that is indexed by sex, name, and year and also sorted\n",
    "allmonths_indexed_activity = data.set_index([data['month'],data['FomRapoManmRezogmail-community'], data['FomRapoManmRezogmail-principalActivity']]).sort_index()\n",
    "allmonths_indexed_activity = allmonths_indexed_activity.drop(columns = ['FomRapoManmRezogmail-networkMember', 'FomRapoManmRezogmail-today', 'month', 'FomRapoManmRezogmail-community', 'FomRapoManmRezogmail-principalActivity'])"
   ]
  },
  {
   "cell_type": "code",
   "execution_count": 8,
   "metadata": {},
   "outputs": [
    {
     "name": "stdout",
     "output_type": "stream",
     "text": [
      "MultiIndex(levels=[[1, 2, 3, 4], ['alexandria', 'arlington', 'fairfax', 'loudoun'], ['awareness', 'health camp', 'painting']],\n",
      "           labels=[[0, 0, 1, 1, 1, 1, 1, 1, 1, 1, 1, 2, 2, 3], [1, 2, 0, 0, 0, 1, 1, 2, 2, 2, 3, 3, 3, 0], [1, 2, 1, 1, 2, 0, 2, 0, 0, 1, 1, 0, 2, 0]],\n",
      "           names=['month', 'FomRapoManmRezogmail-community', 'FomRapoManmRezogmail-principalActivity'])\n"
     ]
    },
    {
     "data": {
      "text/html": [
       "<div>\n",
       "<style scoped>\n",
       "    .dataframe tbody tr th:only-of-type {\n",
       "        vertical-align: middle;\n",
       "    }\n",
       "\n",
       "    .dataframe tbody tr th {\n",
       "        vertical-align: top;\n",
       "    }\n",
       "\n",
       "    .dataframe thead th {\n",
       "        text-align: right;\n",
       "    }\n",
       "</style>\n",
       "<table border=\"1\" class=\"dataframe\">\n",
       "  <thead>\n",
       "    <tr style=\"text-align: right;\">\n",
       "      <th></th>\n",
       "      <th></th>\n",
       "      <th></th>\n",
       "      <th>FomRapoManmRezogmail-numberPeople</th>\n",
       "    </tr>\n",
       "    <tr>\n",
       "      <th>month</th>\n",
       "      <th>FomRapoManmRezogmail-community</th>\n",
       "      <th>FomRapoManmRezogmail-principalActivity</th>\n",
       "      <th></th>\n",
       "    </tr>\n",
       "  </thead>\n",
       "  <tbody>\n",
       "    <tr>\n",
       "      <th rowspan=\"2\" valign=\"top\">1</th>\n",
       "      <th>arlington</th>\n",
       "      <th>health camp</th>\n",
       "      <td>32</td>\n",
       "    </tr>\n",
       "    <tr>\n",
       "      <th>fairfax</th>\n",
       "      <th>painting</th>\n",
       "      <td>16</td>\n",
       "    </tr>\n",
       "    <tr>\n",
       "      <th rowspan=\"9\" valign=\"top\">2</th>\n",
       "      <th rowspan=\"3\" valign=\"top\">alexandria</th>\n",
       "      <th>health camp</th>\n",
       "      <td>25</td>\n",
       "    </tr>\n",
       "    <tr>\n",
       "      <th>health camp</th>\n",
       "      <td>29</td>\n",
       "    </tr>\n",
       "    <tr>\n",
       "      <th>painting</th>\n",
       "      <td>15</td>\n",
       "    </tr>\n",
       "    <tr>\n",
       "      <th rowspan=\"2\" valign=\"top\">arlington</th>\n",
       "      <th>awareness</th>\n",
       "      <td>30</td>\n",
       "    </tr>\n",
       "    <tr>\n",
       "      <th>painting</th>\n",
       "      <td>32</td>\n",
       "    </tr>\n",
       "    <tr>\n",
       "      <th rowspan=\"3\" valign=\"top\">fairfax</th>\n",
       "      <th>awareness</th>\n",
       "      <td>42</td>\n",
       "    </tr>\n",
       "    <tr>\n",
       "      <th>awareness</th>\n",
       "      <td>14</td>\n",
       "    </tr>\n",
       "    <tr>\n",
       "      <th>health camp</th>\n",
       "      <td>32</td>\n",
       "    </tr>\n",
       "    <tr>\n",
       "      <th>loudoun</th>\n",
       "      <th>health camp</th>\n",
       "      <td>33</td>\n",
       "    </tr>\n",
       "    <tr>\n",
       "      <th rowspan=\"2\" valign=\"top\">3</th>\n",
       "      <th rowspan=\"2\" valign=\"top\">loudoun</th>\n",
       "      <th>awareness</th>\n",
       "      <td>16</td>\n",
       "    </tr>\n",
       "    <tr>\n",
       "      <th>painting</th>\n",
       "      <td>23</td>\n",
       "    </tr>\n",
       "    <tr>\n",
       "      <th>4</th>\n",
       "      <th>alexandria</th>\n",
       "      <th>awareness</th>\n",
       "      <td>29</td>\n",
       "    </tr>\n",
       "  </tbody>\n",
       "</table>\n",
       "</div>"
      ],
      "text/plain": [
       "                                                                             FomRapoManmRezogmail-numberPeople\n",
       "month FomRapoManmRezogmail-community FomRapoManmRezogmail-principalActivity                                   \n",
       "1     arlington                      health camp                                                            32\n",
       "      fairfax                        painting                                                               16\n",
       "2     alexandria                     health camp                                                            25\n",
       "                                     health camp                                                            29\n",
       "                                     painting                                                               15\n",
       "      arlington                      awareness                                                              30\n",
       "                                     painting                                                               32\n",
       "      fairfax                        awareness                                                              42\n",
       "                                     awareness                                                              14\n",
       "                                     health camp                                                            32\n",
       "      loudoun                        health camp                                                            33\n",
       "3     loudoun                        awareness                                                              16\n",
       "                                     painting                                                               23\n",
       "4     alexandria                     awareness                                                              29"
      ]
     },
     "execution_count": 8,
     "metadata": {},
     "output_type": "execute_result"
    }
   ],
   "source": [
    "def plotname(month, community):\n",
    "    df = allmonths_indexed_activity.loc[month, community]\n",
    "    plt.plot(df.index, df.values)\n",
    "print(allmonths_indexed_activity.index)\n",
    "allmonths_indexed_activity"
   ]
  },
  {
   "cell_type": "code",
   "execution_count": 32,
   "metadata": {},
   "outputs": [
    {
     "name": "stdout",
     "output_type": "stream",
     "text": [
      "FomRapoManmRezogmail-principalActivity  awareness  health camp  painting\n",
      "month                                                                   \n",
      "1                                             NaN         32.0      16.0\n",
      "2                                            86.0        119.0      47.0\n",
      "3                                            16.0          NaN      23.0\n",
      "4                                            29.0          NaN       NaN\n"
     ]
    },
    {
     "data": {
      "image/png": "[encoded data removed]",
      "text/plain": [
       "<Figure size 432x288 with 1 Axes>"
      ]
     },
     "metadata": {},
     "output_type": "display_data"
    }
   ],
   "source": [
    "groupby_month_activity = data.groupby(['month','FomRapoManmRezogmail-principalActivity'])\n",
    "\n",
    "activity_by_month = groupby_month_activity['FomRapoManmRezogmail-numberPeople'].aggregate(np.sum).unstack()\n",
    "\n",
    "print(activity_by_month)\n",
    "\n",
    "activity_by_month.plot(kind = 'bar', title = ' by activity')\n",
    "plt.ylabel('Number of People')\n",
    "plt.xlabel('month')\n",
    "plt.xticks(np.arange(0,4),['Jan', 'Feb', 'March', 'April'])\n",
    "plt.show()"
   ]
  },
  {
   "cell_type": "code",
   "execution_count": null,
   "metadata": {},
   "outputs": [],
   "source": []
  },
  {
   "cell_type": "code",
   "execution_count": 33,
   "metadata": {},
   "outputs": [
    {
     "name": "stdout",
     "output_type": "stream",
     "text": [
      "FomRapoManmRezogmail-community  alexandria  arlington  fairfax  loudoun\n",
      "month                                                                  \n",
      "1                                      NaN       32.0     16.0      NaN\n",
      "2                                     69.0       62.0     88.0     33.0\n",
      "3                                      NaN        NaN      NaN     39.0\n",
      "4                                     29.0        NaN      NaN      NaN\n"
     ]
    },
    {
     "data": {
      "image/png": "[encoded data removed]",
      "text/plain": [
       "<Figure size 432x288 with 1 Axes>"
      ]
     },
     "metadata": {},
     "output_type": "display_data"
    }
   ],
   "source": [
    "groupby_month_community = data.groupby(['month','FomRapoManmRezogmail-community'])\n",
    "\n",
    "community_by_month = groupby_month_community['FomRapoManmRezogmail-numberPeople'].aggregate(np.sum).unstack()\n",
    "\n",
    "print(community_by_month)\n",
    "\n",
    "community_by_month.plot(kind = 'bar', title = ' by community')\n",
    "plt.ylabel('Number of People')\n",
    "plt.xlabel('month')\n",
    "plt.xticks(np.arange(0,4),['Jan', 'Feb', 'March', 'April'])\n",
    "plt.show()"
   ]
  }
 ],
 "metadata": {
  "kernelspec": {
   "display_name": "Python 3",
   "language": "python",
   "name": "python3"
  },
  "language_info": {
   "codemirror_mode": {
    "name": "ipython",
    "version": 3
   },
   "file_extension": ".py",
   "mimetype": "text/x-python",
   "name": "python",
   "nbconvert_exporter": "python",
   "pygments_lexer": "ipython3",
   "version": "3.6.5"
  }
 },
 "nbformat": 4,
 "nbformat_minor": 2
}
